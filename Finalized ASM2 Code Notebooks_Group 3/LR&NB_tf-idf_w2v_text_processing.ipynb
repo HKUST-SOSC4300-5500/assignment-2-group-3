{
 "cells": [
  {
   "cell_type": "markdown",
   "metadata": {},
   "source": [
    "### Importing the Packages"
   ]
  },
  {
   "cell_type": "code",
   "execution_count": 45,
   "metadata": {},
   "outputs": [
    {
     "name": "stderr",
     "output_type": "stream",
     "text": [
      "[nltk_data] Downloading package punkt to\n",
      "[nltk_data]     C:\\Users\\Acer\\AppData\\Roaming\\nltk_data...\n",
      "[nltk_data]   Package punkt is already up-to-date!\n",
      "[nltk_data] Downloading package averaged_perceptron_tagger to\n",
      "[nltk_data]     C:\\Users\\Acer\\AppData\\Roaming\\nltk_data...\n",
      "[nltk_data]   Package averaged_perceptron_tagger is already up-to-\n",
      "[nltk_data]       date!\n",
      "[nltk_data] Downloading package wordnet to\n",
      "[nltk_data]     C:\\Users\\Acer\\AppData\\Roaming\\nltk_data...\n",
      "[nltk_data]   Package wordnet is already up-to-date!\n"
     ]
    }
   ],
   "source": [
    "import warnings\n",
    "warnings.filterwarnings(\"ignore\")\n",
    "\n",
    "import pandas as pd\n",
    "import numpy as np\n",
    "\n",
    "import seaborn as sns\n",
    "import matplotlib.pyplot as plt\n",
    "\n",
    "#for text pre-processing\n",
    "import re, string\n",
    "import nltk\n",
    "from nltk.tokenize import word_tokenize\n",
    "from nltk.corpus import stopwords\n",
    "from nltk.tokenize import word_tokenize\n",
    "from nltk.stem import SnowballStemmer\n",
    "from nltk.corpus import wordnet\n",
    "from nltk.stem import WordNetLemmatizer\n",
    "\n",
    "nltk.download('punkt')\n",
    "nltk.download('averaged_perceptron_tagger')\n",
    "nltk.download('wordnet')\n",
    "\n",
    "#for model-building\n",
    "from sklearn.model_selection import train_test_split\n",
    "from sklearn.linear_model import LogisticRegression\n",
    "from sklearn.linear_model import SGDClassifier\n",
    "from sklearn.naive_bayes import MultinomialNB\n",
    "from sklearn.metrics import classification_report, f1_score, accuracy_score, confusion_matrix\n",
    "from sklearn.metrics import roc_curve, auc, roc_auc_score\n",
    "\n",
    "# bag of words\n",
    "from sklearn.feature_extraction.text import TfidfVectorizer\n",
    "from sklearn.feature_extraction.text import CountVectorizer\n",
    "\n"
   ]
  },
  {
   "cell_type": "code",
   "execution_count": 6,
   "metadata": {
    "scrolled": false
   },
   "outputs": [
    {
     "name": "stdout",
     "output_type": "stream",
     "text": [
      "Requirement already satisfied: gensim in c:\\users\\acer\\anaconda3\\lib\\site-packages (4.1.2)\n",
      "Requirement already satisfied: smart-open>=1.8.1 in c:\\users\\acer\\anaconda3\\lib\\site-packages (from gensim) (5.2.1)\n",
      "Requirement already satisfied: numpy>=1.17.0 in c:\\users\\acer\\anaconda3\\lib\\site-packages (from gensim) (1.22.3)\n",
      "Requirement already satisfied: Cython==0.29.23 in c:\\users\\acer\\anaconda3\\lib\\site-packages (from gensim) (0.29.23)\n",
      "Requirement already satisfied: scipy>=0.18.1 in c:\\users\\acer\\anaconda3\\lib\\site-packages (from gensim) (1.4.1)\n"
     ]
    }
   ],
   "source": [
    "#for word embedding\n",
    "\n",
    "!pip install gensim \n",
    "import gensim\n",
    "from gensim.models import Word2Vec #Word2Vec is mostly used for huge datasets"
   ]
  },
  {
   "cell_type": "markdown",
   "metadata": {},
   "source": [
    "## Importing the Training Data"
   ]
  },
  {
   "cell_type": "code",
   "execution_count": 7,
   "metadata": {},
   "outputs": [
    {
     "name": "stdout",
     "output_type": "stream",
     "text": [
      "(10494, 5)\n"
     ]
    },
    {
     "data": {
      "text/html": [
       "<div>\n",
       "<style scoped>\n",
       "    .dataframe tbody tr th:only-of-type {\n",
       "        vertical-align: middle;\n",
       "    }\n",
       "\n",
       "    .dataframe tbody tr th {\n",
       "        vertical-align: top;\n",
       "    }\n",
       "\n",
       "    .dataframe thead th {\n",
       "        text-align: right;\n",
       "    }\n",
       "</style>\n",
       "<table border=\"1\" class=\"dataframe\">\n",
       "  <thead>\n",
       "    <tr style=\"text-align: right;\">\n",
       "      <th></th>\n",
       "      <th>review_id</th>\n",
       "      <th>title</th>\n",
       "      <th>year</th>\n",
       "      <th>user_review</th>\n",
       "      <th>user_suggestion</th>\n",
       "    </tr>\n",
       "  </thead>\n",
       "  <tbody>\n",
       "    <tr>\n",
       "      <th>0</th>\n",
       "      <td>473</td>\n",
       "      <td>Sakura Clicker</td>\n",
       "      <td>2017.0</td>\n",
       "      <td>This has helped me through my stage 8 terminal...</td>\n",
       "      <td>1</td>\n",
       "    </tr>\n",
       "    <tr>\n",
       "      <th>1</th>\n",
       "      <td>22971</td>\n",
       "      <td>Crusaders of the Lost Idols</td>\n",
       "      <td>2017.0</td>\n",
       "      <td>Awesome idea. I support this game. I love that...</td>\n",
       "      <td>1</td>\n",
       "    </tr>\n",
       "    <tr>\n",
       "      <th>2</th>\n",
       "      <td>18225</td>\n",
       "      <td>RaceRoom Racing Experience</td>\n",
       "      <td>2014.0</td>\n",
       "      <td>This game is just, such a♥♥♥♥♥♥take. The devel...</td>\n",
       "      <td>0</td>\n",
       "    </tr>\n",
       "    <tr>\n",
       "      <th>3</th>\n",
       "      <td>17132</td>\n",
       "      <td>Black Squad</td>\n",
       "      <td>2018.0</td>\n",
       "      <td>Early Access Reviewhere what i honesty think a...</td>\n",
       "      <td>1</td>\n",
       "    </tr>\n",
       "    <tr>\n",
       "      <th>4</th>\n",
       "      <td>8103</td>\n",
       "      <td>DCS World Steam Edition</td>\n",
       "      <td>2014.0</td>\n",
       "      <td>Very detailed sim and a joy to fly using a fli...</td>\n",
       "      <td>1</td>\n",
       "    </tr>\n",
       "  </tbody>\n",
       "</table>\n",
       "</div>"
      ],
      "text/plain": [
       "   review_id                        title    year  \\\n",
       "0        473               Sakura Clicker  2017.0   \n",
       "1      22971  Crusaders of the Lost Idols  2017.0   \n",
       "2      18225   RaceRoom Racing Experience  2014.0   \n",
       "3      17132                  Black Squad  2018.0   \n",
       "4       8103      DCS World Steam Edition  2014.0   \n",
       "\n",
       "                                         user_review  user_suggestion  \n",
       "0  This has helped me through my stage 8 terminal...                1  \n",
       "1  Awesome idea. I support this game. I love that...                1  \n",
       "2  This game is just, such a♥♥♥♥♥♥take. The devel...                0  \n",
       "3  Early Access Reviewhere what i honesty think a...                1  \n",
       "4  Very detailed sim and a joy to fly using a fli...                1  "
      ]
     },
     "execution_count": 7,
     "metadata": {},
     "output_type": "execute_result"
    }
   ],
   "source": [
    "df_train=pd.read_csv('game_train.csv')\n",
    "print(df_train.shape)\n",
    "df_train.head()"
   ]
  },
  {
   "cell_type": "markdown",
   "metadata": {},
   "source": [
    "## Basic Statistics"
   ]
  },
  {
   "cell_type": "code",
   "execution_count": 44,
   "metadata": {},
   "outputs": [
    {
     "name": "stdout",
     "output_type": "stream",
     "text": [
      "1    5986\n",
      "0    4508\n",
      "Name: user_suggestion, dtype: int64\n"
     ]
    },
    {
     "data": {
      "text/plain": [
       "<AxesSubplot:ylabel='user_suggestion'>"
      ]
     },
     "execution_count": 44,
     "metadata": {},
     "output_type": "execute_result"
    },
    {
     "data": {
      "image/png": "[encoded data removed]",
      "text/plain": [
       "<Figure size 432x288 with 1 Axes>"
      ]
     },
     "metadata": {
      "needs_background": "light"
     },
     "output_type": "display_data"
    }
   ],
   "source": [
    "# CLASS DISTRIBUTION\n",
    "#if dataset is balanced or not\n",
    "x=df_train['user_suggestion'].value_counts()\n",
    "print(x)\n",
    "sns.barplot(x.index,x)"
   ]
  },
  {
   "cell_type": "code",
   "execution_count": 9,
   "metadata": {},
   "outputs": [
    {
     "data": {
      "text/plain": [
       "review_id            0\n",
       "title                0\n",
       "year               108\n",
       "user_review          0\n",
       "user_suggestion      0\n",
       "dtype: int64"
      ]
     },
     "execution_count": 9,
     "metadata": {},
     "output_type": "execute_result"
    }
   ],
   "source": [
    "#Missing values\n",
    "df_train.isna().sum()"
   ]
  },
  {
   "cell_type": "code",
   "execution_count": 10,
   "metadata": {},
   "outputs": [
    {
     "name": "stdout",
     "output_type": "stream",
     "text": [
      "<class 'str'>\n"
     ]
    }
   ],
   "source": [
    "print(type('user_review'))"
   ]
  },
  {
   "cell_type": "code",
   "execution_count": 11,
   "metadata": {},
   "outputs": [
    {
     "name": "stdout",
     "output_type": "stream",
     "text": [
      "129.2978616772469\n",
      "148.15372670807454\n",
      "721.6996324757769\n",
      "818.3362910381544\n",
      "88.05897093217507\n",
      "98.26153504880213\n"
     ]
    }
   ],
   "source": [
    "#1. WORD-COUNT\n",
    "df_train['word_count'] = df_train['user_review'].apply(lambda x: len(str(x).split()))\n",
    "print(df_train[df_train['user_suggestion']==1]['word_count'].mean()) #recommended\n",
    "print(df_train[df_train['user_suggestion']==0]['word_count'].mean()) #not recommended\n",
    "#Disaster tweets are more wordy than the non-disaster tweets\n",
    "\n",
    "#2. CHARACTER-COUNT\n",
    "df_train['char_count'] = df_train['user_review'].apply(lambda x: len(str(x)))\n",
    "print(df_train[df_train['user_suggestion']==1]['char_count'].mean()) #recommended\n",
    "print(df_train[df_train['user_suggestion']==0]['char_count'].mean()) #not recommended\n",
    "#Disaster tweets are longer than the non-disaster tweets\n",
    "\n",
    "#3. UNIQUE WORD-COUNT\n",
    "df_train['unique_word_count'] = df_train['user_review'].apply(lambda x: len(set(str(x).split())))\n",
    "print(df_train[df_train['user_suggestion']==1]['unique_word_count'].mean()) #recommended\n",
    "print(df_train[df_train['user_suggestion']==0]['unique_word_count'].mean()) #not recommended"
   ]
  },
  {
   "cell_type": "code",
   "execution_count": 12,
   "metadata": {},
   "outputs": [
    {
     "data": {
      "image/png": "[encoded data removed]",
      "text/plain": [
       "<Figure size 720x288 with 2 Axes>"
      ]
     },
     "metadata": {
      "needs_background": "light"
     },
     "output_type": "display_data"
    }
   ],
   "source": [
    "#Plotting word-count per Recommendation\n",
    "fig,(ax1,ax2)=plt.subplots(1,2,figsize=(10,4))\n",
    "train_words=df_train[df_train['user_suggestion']==1]['word_count']\n",
    "ax1.hist(train_words,color='red')\n",
    "ax1.set_title('Recommended')\n",
    "train_words=df_train[df_train['user_suggestion']==0]['word_count']\n",
    "ax2.hist(train_words,color='green')\n",
    "ax2.set_title('Not Recommended')\n",
    "fig.suptitle('Words per Recommendation')\n",
    "plt.show()"
   ]
  },
  {
   "cell_type": "markdown",
   "metadata": {},
   "source": [
    "## PRE-PROCESSING"
   ]
  },
  {
   "cell_type": "code",
   "execution_count": 13,
   "metadata": {
    "scrolled": true
   },
   "outputs": [
    {
     "name": "stdout",
     "output_type": "stream",
     "text": [
      "this is a message to be cleaned it may involve some things like adjacent spaces and tabs\n"
     ]
    }
   ],
   "source": [
    "# Common text preprocessing\n",
    "user_review = \"   This is a message to be cleaned. It may involve some things like: <br>, ?, :, ''  adjacent spaces and tabs     .  \"\n",
    "\n",
    "#convert to lowercase and remove punctuations and characters and then strip\n",
    "def preprocess(user_review):\n",
    "    user_review = user_review.lower() #lowercase text\n",
    "    user_review = user_review.strip()  #get rid of leading/trailing whitespace \n",
    "    user_review = re.compile('<.*?>').sub('', user_review) #Remove HTML tags/markups\n",
    "    user_review = re.compile('[%s]' % re.escape(string.punctuation)).sub(' ', user_review)  #Replace punctuation with space. Careful since punctuation can sometime be useful\n",
    "    user_review = re.sub('\\s+', ' ', user_review)  #Remove extra space and tabs\n",
    "    user_review = re.sub(r'\\[[0-9]*\\]',' ',user_review) #[0-9] matches any digit (0 to 10000...)\n",
    "    user_review =re.sub(r'[^\\w\\s]', '', str(user_review).lower().strip())\n",
    "    user_review = re.sub(r'\\d',' ',user_review) #matches any digit from 0 to 100000..., \\D matches non-digits\n",
    "    user_review = re.sub(r'\\s+',' ',user_review) #\\s matches any whitespace, \\s+ matches multiple whitespace, \\S matches non-whitespace \n",
    "    \n",
    "    return user_review\n",
    "\n",
    "user_review =preprocess(user_review)\n",
    "print(user_review)  #text is a string"
   ]
  },
  {
   "cell_type": "code",
   "execution_count": 46,
   "metadata": {},
   "outputs": [
    {
     "name": "stderr",
     "output_type": "stream",
     "text": [
      "[nltk_data] Downloading package stopwords to\n",
      "[nltk_data]     C:\\Users\\Acer\\AppData\\Roaming\\nltk_data...\n",
      "[nltk_data]   Package stopwords is already up-to-date!\n"
     ]
    },
    {
     "data": {
      "text/plain": [
       "True"
      ]
     },
     "execution_count": 46,
     "metadata": {},
     "output_type": "execute_result"
    }
   ],
   "source": [
    "import nltk\n",
    "nltk.download('stopwords')"
   ]
  },
  {
   "cell_type": "code",
   "execution_count": 15,
   "metadata": {},
   "outputs": [
    {
     "name": "stdout",
     "output_type": "stream",
     "text": [
      "message cleaned may involve things like adjacent spaces tabs\n"
     ]
    }
   ],
   "source": [
    "# Examples of Lexicon-based text processing\n",
    " \n",
    "#1. Stopword Removal\n",
    "def stopword(string):\n",
    "    a= [i for i in string.split() if i not in stopwords.words('english')]\n",
    "    return ' '.join(a)\n",
    "\n",
    "user_review =stopword(user_review)\n",
    "print(user_review)"
   ]
  },
  {
   "cell_type": "code",
   "execution_count": 16,
   "metadata": {},
   "outputs": [
    {
     "name": "stdout",
     "output_type": "stream",
     "text": [
      "messag clean may involv thing like adjac space tab\n"
     ]
    }
   ],
   "source": [
    "#2. Stemming\n",
    " \n",
    "# Initialize the stemmer\n",
    "snow = SnowballStemmer('english')\n",
    "def stemming(string):\n",
    "    a=[snow.stem(i) for i in word_tokenize(string) ]\n",
    "    return \" \".join(a)\n",
    "user_review =stemming(user_review)\n",
    "print(user_review)"
   ]
  },
  {
   "cell_type": "code",
   "execution_count": 17,
   "metadata": {},
   "outputs": [
    {
     "name": "stdout",
     "output_type": "stream",
     "text": [
      "messag clean may involv thing like adjac space tab\n"
     ]
    }
   ],
   "source": [
    "#3. Lemmatization\n",
    "\n",
    "# Initialize the lemmatizer\n",
    "wl = WordNetLemmatizer()\n",
    " \n",
    "# This is a helper function to map NTLK position tags\n",
    "# Full list is available here: https://www.ling.upenn.edu/courses/Fall_2003/ling001/penn_treebank_pos.html\n",
    "def get_wordnet_pos(tag):\n",
    "    if tag.startswith('J'):\n",
    "        return wordnet.ADJ\n",
    "    elif tag.startswith('V'):\n",
    "        return wordnet.VERB\n",
    "    elif tag.startswith('N'):\n",
    "        return wordnet.NOUN\n",
    "    elif tag.startswith('R'):\n",
    "        return wordnet.ADV\n",
    "    else:\n",
    "        return wordnet.NOUN\n",
    "\n",
    "# Tokenize the sentence\n",
    "def lemmatizer(string):\n",
    "    word_pos_tags = nltk.pos_tag(word_tokenize(string)) # Get position tags\n",
    "    a=[wl.lemmatize(tag[0], get_wordnet_pos(tag[1])) for idx, tag in enumerate(word_pos_tags)] # Map the position tag and lemmatize the word/token\n",
    "    return \" \".join(a)\n",
    "\n",
    "user_review = lemmatizer(user_review)\n",
    "print(user_review)"
   ]
  },
  {
   "cell_type": "code",
   "execution_count": 18,
   "metadata": {},
   "outputs": [
    {
     "data": {
      "text/html": [
       "<div>\n",
       "<style scoped>\n",
       "    .dataframe tbody tr th:only-of-type {\n",
       "        vertical-align: middle;\n",
       "    }\n",
       "\n",
       "    .dataframe tbody tr th {\n",
       "        vertical-align: top;\n",
       "    }\n",
       "\n",
       "    .dataframe thead th {\n",
       "        text-align: right;\n",
       "    }\n",
       "</style>\n",
       "<table border=\"1\" class=\"dataframe\">\n",
       "  <thead>\n",
       "    <tr style=\"text-align: right;\">\n",
       "      <th></th>\n",
       "      <th>review_id</th>\n",
       "      <th>title</th>\n",
       "      <th>year</th>\n",
       "      <th>user_review</th>\n",
       "      <th>user_suggestion</th>\n",
       "      <th>clean_user_review</th>\n",
       "    </tr>\n",
       "  </thead>\n",
       "  <tbody>\n",
       "    <tr>\n",
       "      <th>0</th>\n",
       "      <td>473</td>\n",
       "      <td>Sakura Clicker</td>\n",
       "      <td>2017.0</td>\n",
       "      <td>This has helped me through my stage 8 terminal...</td>\n",
       "      <td>1</td>\n",
       "      <td>help stage terminal brain cancer finally see v...</td>\n",
       "    </tr>\n",
       "    <tr>\n",
       "      <th>1</th>\n",
       "      <td>22971</td>\n",
       "      <td>Crusaders of the Lost Idols</td>\n",
       "      <td>2017.0</td>\n",
       "      <td>Awesome idea. I support this game. I love that...</td>\n",
       "      <td>1</td>\n",
       "      <td>awesome idea support game love keep make progr...</td>\n",
       "    </tr>\n",
       "    <tr>\n",
       "      <th>2</th>\n",
       "      <td>18225</td>\n",
       "      <td>RaceRoom Racing Experience</td>\n",
       "      <td>2014.0</td>\n",
       "      <td>This game is just, such a♥♥♥♥♥♥take. The devel...</td>\n",
       "      <td>0</td>\n",
       "      <td>game atake developer want money thats everythi...</td>\n",
       "    </tr>\n",
       "    <tr>\n",
       "      <th>3</th>\n",
       "      <td>17132</td>\n",
       "      <td>Black Squad</td>\n",
       "      <td>2018.0</td>\n",
       "      <td>Early Access Reviewhere what i honesty think a...</td>\n",
       "      <td>1</td>\n",
       "      <td>early access reviewhere honesty think game gam...</td>\n",
       "    </tr>\n",
       "    <tr>\n",
       "      <th>4</th>\n",
       "      <td>8103</td>\n",
       "      <td>DCS World Steam Edition</td>\n",
       "      <td>2014.0</td>\n",
       "      <td>Very detailed sim and a joy to fly using a fli...</td>\n",
       "      <td>1</td>\n",
       "      <td>detailed sim joy fly use flightstick big drawb...</td>\n",
       "    </tr>\n",
       "  </tbody>\n",
       "</table>\n",
       "</div>"
      ],
      "text/plain": [
       "   review_id                        title    year  \\\n",
       "0        473               Sakura Clicker  2017.0   \n",
       "1      22971  Crusaders of the Lost Idols  2017.0   \n",
       "2      18225   RaceRoom Racing Experience  2014.0   \n",
       "3      17132                  Black Squad  2018.0   \n",
       "4       8103      DCS World Steam Edition  2014.0   \n",
       "\n",
       "                                         user_review  user_suggestion  \\\n",
       "0  This has helped me through my stage 8 terminal...                1   \n",
       "1  Awesome idea. I support this game. I love that...                1   \n",
       "2  This game is just, such a♥♥♥♥♥♥take. The devel...                0   \n",
       "3  Early Access Reviewhere what i honesty think a...                1   \n",
       "4  Very detailed sim and a joy to fly using a fli...                1   \n",
       "\n",
       "                                   clean_user_review  \n",
       "0  help stage terminal brain cancer finally see v...  \n",
       "1  awesome idea support game love keep make progr...  \n",
       "2  game atake developer want money thats everythi...  \n",
       "3  early access reviewhere honesty think game gam...  \n",
       "4  detailed sim joy fly use flightstick big drawb...  "
      ]
     },
     "execution_count": 18,
     "metadata": {},
     "output_type": "execute_result"
    }
   ],
   "source": [
    "#Final Preprocessing\n",
    "\n",
    "def finalpreprocess(string):\n",
    "    return lemmatizer(stopword(preprocess(string)))\n",
    "\n",
    "df_train['clean_user_review'] = df_train['user_review'].apply(lambda x: finalpreprocess(x))\n",
    "df_train=df_train.drop(columns=['word_count','char_count','unique_word_count'])\n",
    "df_train.head()"
   ]
  },
  {
   "cell_type": "markdown",
   "metadata": {},
   "source": [
    "### Word2Vec model"
   ]
  },
  {
   "cell_type": "code",
   "execution_count": 36,
   "metadata": {},
   "outputs": [],
   "source": [
    "#create Word2vec model\n",
    "\n",
    "df_train['clean_user_review_tok']=[nltk.word_tokenize(i) for i in df_train['clean_user_review']] #convert preprocessed sentence to tokenized sentence\n",
    "model = Word2Vec(df_train['clean_user_review_tok'],min_count=1)  #min_count=1 means word should be present at least across all documents,\n",
    "\n",
    "#if min_count=2 means if the word is present less than 2 times across all the documents then we should not consider it\n",
    "\n",
    "#combination of word and its vector\n",
    "w2v = dict(zip(model.wv.index_to_key, model.wv.vectors))  \n",
    "\n",
    "#converting sentence to vectors/numbers from word vectors result by Word2Vec\n",
    "class MeanEmbeddingVectorizer(object):\n",
    "    def __init__(self, word2vec):\n",
    "        self.word2vec = word2vec\n",
    "        self.dim = len(next(iter(word2vec.values())))\n",
    "\n",
    "    def fit(self, X, y):\n",
    "        return self\n",
    "\n",
    "    def transform(self, X):\n",
    "        return np.array([\n",
    "            np.mean([self.word2vec[w] for w in words if w in self.word2vec]\n",
    "                    or [np.zeros(self.dim)], axis=0)\n",
    "            for words in X\n",
    "        ])"
   ]
  },
  {
   "cell_type": "markdown",
   "metadata": {},
   "source": [
    "###  Train-Test Splitting of Train Dataset"
   ]
  },
  {
   "cell_type": "code",
   "execution_count": 20,
   "metadata": {},
   "outputs": [],
   "source": [
    "X_train, X_val, y_train, y_val = train_test_split(df_train[\"clean_user_review\"],\n",
    "                                                  df_train[\"user_suggestion\"],\n",
    "                                                  test_size=0.2,\n",
    "                                                  shuffle=True)\n",
    "X_train_tok= [nltk.word_tokenize(i) for i in X_train]  \n",
    "X_val_tok= [nltk.word_tokenize(i) for i in X_val]      \n",
    "\n",
    "#TF-IDF\n",
    "tfidf_vectorizer = TfidfVectorizer(use_idf=True)\n",
    "X_train_vectors_tfidf = tfidf_vectorizer.fit_transform(X_train) \n",
    "# Only transform x_test (not fit and transform)\n",
    "X_val_vectors_tfidf = tfidf_vectorizer.transform(X_val) \n",
    "\n",
    "#Word2vec\n",
    "# Fit and transform\n",
    "modelw = MeanEmbeddingVectorizer(w2v)\n",
    "X_train_vectors_w2v = modelw.transform(X_train_tok)\n",
    "X_val_vectors_w2v = modelw.transform(X_val_tok)"
   ]
  },
  {
   "cell_type": "markdown",
   "metadata": {},
   "source": [
    "### Building ML models (Text-classification)"
   ]
  },
  {
   "cell_type": "markdown",
   "metadata": {},
   "source": [
    "#### LR (tf-idf)"
   ]
  },
  {
   "cell_type": "code",
   "execution_count": 21,
   "metadata": {},
   "outputs": [
    {
     "name": "stdout",
     "output_type": "stream",
     "text": [
      "              precision    recall  f1-score   support\n",
      "\n",
      "           0       0.82      0.79      0.80       912\n",
      "           1       0.84      0.87      0.85      1187\n",
      "\n",
      "    accuracy                           0.83      2099\n",
      "   macro avg       0.83      0.83      0.83      2099\n",
      "weighted avg       0.83      0.83      0.83      2099\n",
      "\n",
      "Confusion Matrix: [[ 717  195]\n",
      " [ 156 1031]]\n",
      "AUC: 0.9130270917394583\n"
     ]
    }
   ],
   "source": [
    "#Fitting the classification model using Logistic Regression(tf-idf)\n",
    "\n",
    "lr_tfidf=LogisticRegression(solver = 'liblinear', C=10, penalty = 'l2')\n",
    "lr_tfidf.fit(X_train_vectors_tfidf, y_train) \n",
    "\n",
    "#Predict y value for test dataset\n",
    "y_predict = lr_tfidf.predict(X_val_vectors_tfidf)\n",
    "y_prob = lr_tfidf.predict_proba(X_val_vectors_tfidf)[:,1]\n",
    " \n",
    "\n",
    "print(classification_report(y_val,y_predict))\n",
    "print('Confusion Matrix:',confusion_matrix(y_val, y_predict))\n",
    " \n",
    "fpr, tpr, thresholds = roc_curve(y_val, y_prob)\n",
    "roc_auc = auc(fpr, tpr)\n",
    "print('AUC:', roc_auc)  "
   ]
  },
  {
   "cell_type": "markdown",
   "metadata": {},
   "source": [
    "#### NB (tf-idf)"
   ]
  },
  {
   "cell_type": "code",
   "execution_count": 22,
   "metadata": {},
   "outputs": [
    {
     "name": "stdout",
     "output_type": "stream",
     "text": [
      "              precision    recall  f1-score   support\n",
      "\n",
      "           0       0.92      0.50      0.65       912\n",
      "           1       0.72      0.97      0.82      1187\n",
      "\n",
      "    accuracy                           0.77      2099\n",
      "   macro avg       0.82      0.73      0.74      2099\n",
      "weighted avg       0.81      0.77      0.75      2099\n",
      "\n",
      "Confusion Matrix: [[ 459  453]\n",
      " [  40 1147]]\n",
      "AUC: 0.904468548160629\n"
     ]
    }
   ],
   "source": [
    "#Fitting the classification model using Naive Bayes(tf-idf)\n",
    "\n",
    "nb_tfidf = MultinomialNB()\n",
    "nb_tfidf.fit(X_train_vectors_tfidf, y_train)  #model\n",
    "\n",
    "#Predict y value for test dataset\n",
    "y_predict = nb_tfidf.predict(X_val_vectors_tfidf)\n",
    "y_prob = nb_tfidf.predict_proba(X_val_vectors_tfidf)[:,1]\n",
    " \n",
    "\n",
    "print(classification_report(y_val,y_predict))\n",
    "print('Confusion Matrix:',confusion_matrix(y_val, y_predict))\n",
    " \n",
    "fpr, tpr, thresholds = roc_curve(y_val, y_prob)\n",
    "roc_auc = auc(fpr, tpr)\n",
    "print('AUC:', roc_auc)  \n"
   ]
  },
  {
   "cell_type": "markdown",
   "metadata": {},
   "source": [
    "#### LR (w2v)"
   ]
  },
  {
   "cell_type": "code",
   "execution_count": 38,
   "metadata": {},
   "outputs": [
    {
     "name": "stdout",
     "output_type": "stream",
     "text": [
      "              precision    recall  f1-score   support\n",
      "\n",
      "           0       0.76      0.70      0.73       912\n",
      "           1       0.78      0.83      0.81      1187\n",
      "\n",
      "    accuracy                           0.77      2099\n",
      "   macro avg       0.77      0.77      0.77      2099\n",
      "weighted avg       0.77      0.77      0.77      2099\n",
      "\n",
      "Confusion Matrix: [[637 275]\n",
      " [199 988]]\n",
      "AUC: 0.8571374466072511\n"
     ]
    }
   ],
   "source": [
    "#Fitting the classification model using Logistic Regression (W2v)\n",
    "lr_w2v=LogisticRegression(solver = 'liblinear', C=10, penalty = 'l2')\n",
    "lr_w2v.fit(X_train_vectors_w2v, y_train)  #model\n",
    "\n",
    "#Predict y value for test dataset\n",
    "y_predict = lr_w2v.predict(X_val_vectors_w2v)\n",
    "y_prob = lr_w2v.predict_proba(X_val_vectors_w2v)[:,1]\n",
    " \n",
    "\n",
    "print(classification_report(y_val,y_predict))\n",
    "print('Confusion Matrix:',confusion_matrix(y_val, y_predict))\n",
    " \n",
    "fpr, tpr, thresholds = roc_curve(y_val, y_prob)\n",
    "roc_auc = auc(fpr, tpr)\n",
    "print('AUC:', roc_auc)  "
   ]
  },
  {
   "cell_type": "markdown",
   "metadata": {},
   "source": [
    "### Test the Models with Test Dataset"
   ]
  },
  {
   "cell_type": "code",
   "execution_count": 39,
   "metadata": {},
   "outputs": [],
   "source": [
    "df_test=pd.read_csv('game_test.csv') \n",
    "df_test['clean_user_review'] = df_test['user_review'].apply(lambda x: finalpreprocess(x)) #preprocess the data\n",
    "X_test=df_test['clean_user_review'] "
   ]
  },
  {
   "cell_type": "code",
   "execution_count": 25,
   "metadata": {},
   "outputs": [
    {
     "name": "stdout",
     "output_type": "stream",
     "text": [
      "   review_id                        title    year  \\\n",
      "0          1  Spooky's Jump Scare Mansion  2016.0   \n",
      "1          2  Spooky's Jump Scare Mansion  2016.0   \n",
      "2          3  Spooky's Jump Scare Mansion  2016.0   \n",
      "3          4  Spooky's Jump Scare Mansion  2015.0   \n",
      "4          6  Spooky's Jump Scare Mansion  2015.0   \n",
      "\n",
      "                                         user_review  \\\n",
      "0  I'm scared and hearing creepy voices.  So I'll...   \n",
      "1  Best game, more better than Sam Pepper's YouTu...   \n",
      "2  A littly iffy on the controls, but once you kn...   \n",
      "3  Great game, fun and colorful and all that.A si...   \n",
      "4  Early Access ReviewIt's pretty cute at first, ...   \n",
      "\n",
      "                                   clean_user_review  predict_prob  \\\n",
      "0  scared hearing creepy voice pause moment write...      0.941876   \n",
      "1  best game well sam pepper youtube account need...      0.945558   \n",
      "2  littly iffy control know play easy master make...      0.977988   \n",
      "3  great game fun colorful side note though get w...      0.986491   \n",
      "4  early access reviewit pretty cute first later ...      0.996865   \n",
      "\n",
      "   user_suggestion  \n",
      "0                1  \n",
      "1                1  \n",
      "2                1  \n",
      "3                1  \n",
      "4                1  \n"
     ]
    }
   ],
   "source": [
    "#Testing with the best model: Logistic Regression (tf-idf)\n",
    "X_vector = tfidf_vectorizer.transform(X_test) #converting X_test to vector\n",
    "y_predict = lr_tfidf.predict(X_vector)      \n",
    "y_prob = lr_tfidf.predict_proba(X_vector)[:,1]\n",
    "df_test['predict_prob'] = y_prob\n",
    "df_test['user_suggestion'] = y_predict\n",
    "print(df_test.head())"
   ]
  },
  {
   "cell_type": "code",
   "execution_count": 26,
   "metadata": {},
   "outputs": [],
   "source": [
    "final=df_test[['review_id','user_suggestion']].reset_index(drop=True)\n",
    "final.to_csv('k_submission.csv', index = False)"
   ]
  },
  {
   "attachments": {
    "k.png": {
     "image/png": "[encoded data removed]"
    }
   },
   "cell_type": "markdown",
   "metadata": {},
   "source": [
    "![k.png](attachment:k.png)"
   ]
  },
  {
   "cell_type": "code",
   "execution_count": 37,
   "metadata": {
    "scrolled": true
   },
   "outputs": [
    {
     "name": "stdout",
     "output_type": "stream",
     "text": [
      "   review_id                        title    year  \\\n",
      "0          1  Spooky's Jump Scare Mansion  2016.0   \n",
      "1          2  Spooky's Jump Scare Mansion  2016.0   \n",
      "2          3  Spooky's Jump Scare Mansion  2016.0   \n",
      "3          4  Spooky's Jump Scare Mansion  2015.0   \n",
      "4          6  Spooky's Jump Scare Mansion  2015.0   \n",
      "\n",
      "                                         user_review  \\\n",
      "0  I'm scared and hearing creepy voices.  So I'll...   \n",
      "1  Best game, more better than Sam Pepper's YouTu...   \n",
      "2  A littly iffy on the controls, but once you kn...   \n",
      "3  Great game, fun and colorful and all that.A si...   \n",
      "4  Early Access ReviewIt's pretty cute at first, ...   \n",
      "\n",
      "                                   clean_user_review  predict_prob  \\\n",
      "0  scared hearing creepy voice pause moment write...      0.919021   \n",
      "1  best game well sam pepper youtube account need...      0.839542   \n",
      "2  littly iffy control know play easy master make...      0.861282   \n",
      "3  great game fun colorful side note though get w...      0.754489   \n",
      "4  early access reviewit pretty cute first later ...      0.915800   \n",
      "\n",
      "   user_suggestion  \n",
      "0                1  \n",
      "1                1  \n",
      "2                1  \n",
      "3                1  \n",
      "4                1  \n"
     ]
    }
   ],
   "source": [
    "#Although it has a lower accuracy in the model, I would like to predict with it as reference.\n",
    "\n",
    "#Testing with the Naive Bayes model\n",
    "X_vector= tfidf_vectorizer.transform(X_test) #converting X_test to vector \n",
    "y_predict = nb_tfidf.predict(X_vector)     \n",
    "y_prob = nb_tfidf.predict_proba(X_vector)[:,1]\n",
    "df_test['predict_prob'] = y_prob\n",
    "df_test['user_suggestion'] = y_predict\n",
    "print(df_test.head())"
   ]
  },
  {
   "cell_type": "code",
   "execution_count": 31,
   "metadata": {},
   "outputs": [],
   "source": [
    "final=df_test[['review_id','user_suggestion']].reset_index(drop=True)\n",
    "final.to_csv('k1_submission.csv', index = False) "
   ]
  },
  {
   "attachments": {
    "1.png": {
     "image/png": "[encoded data removed]"
    }
   },
   "cell_type": "markdown",
   "metadata": {},
   "source": [
    "![1.png](attachment:1.png)"
   ]
  },
  {
   "cell_type": "code",
   "execution_count": 40,
   "metadata": {
    "scrolled": true
   },
   "outputs": [
    {
     "name": "stdout",
     "output_type": "stream",
     "text": [
      "   review_id                        title    year  \\\n",
      "0          1  Spooky's Jump Scare Mansion  2016.0   \n",
      "1          2  Spooky's Jump Scare Mansion  2016.0   \n",
      "2          3  Spooky's Jump Scare Mansion  2016.0   \n",
      "3          4  Spooky's Jump Scare Mansion  2015.0   \n",
      "4          6  Spooky's Jump Scare Mansion  2015.0   \n",
      "\n",
      "                                         user_review  \\\n",
      "0  I'm scared and hearing creepy voices.  So I'll...   \n",
      "1  Best game, more better than Sam Pepper's YouTu...   \n",
      "2  A littly iffy on the controls, but once you kn...   \n",
      "3  Great game, fun and colorful and all that.A si...   \n",
      "4  Early Access ReviewIt's pretty cute at first, ...   \n",
      "\n",
      "                                   clean_user_review  predict_prob  \\\n",
      "0  scared hearing creepy voice pause moment write...      0.503291   \n",
      "1  best game well sam pepper youtube account need...      0.409616   \n",
      "2  littly iffy control know play easy master make...      0.600359   \n",
      "3  great game fun colorful side note though get w...      0.437530   \n",
      "4  early access reviewit pretty cute first later ...      0.502902   \n",
      "\n",
      "   user_suggestion  \n",
      "0                1  \n",
      "1                0  \n",
      "2                1  \n",
      "3                0  \n",
      "4                1  \n"
     ]
    }
   ],
   "source": [
    "#Although it has a lower f1-score in the model, I would like to predict with it as reference.\n",
    "\n",
    "#Testing with the Logistic Regression (W2v) model\n",
    "X_vector= modelw.transform(X_test)      # Fit and transform\n",
    "y_predict = lr_w2v.predict(X_vector)   \n",
    "y_prob = lr_w2v.predict_proba(X_vector)[:,1]\n",
    "df_test['predict_prob']= y_prob\n",
    "df_test['user_suggestion']= y_predict\n",
    "print(df_test.head())"
   ]
  },
  {
   "cell_type": "code",
   "execution_count": 41,
   "metadata": {},
   "outputs": [],
   "source": [
    "final=df_test[['review_id','user_suggestion']].reset_index(drop=True)\n",
    "final.to_csv('k2_submission.csv', index = False) "
   ]
  },
  {
   "attachments": {
    "Untitled.png": {
     "image/png": "[encoded data removed]"
    }
   },
   "cell_type": "markdown",
   "metadata": {},
   "source": [
    "![Untitled.png](attachment:Untitled.png)"
   ]
  },
  {
   "cell_type": "markdown",
   "metadata": {},
   "source": [
    "### Conclusion"
   ]
  },
  {
   "cell_type": "markdown",
   "metadata": {},
   "source": [
    "The score of using Logistic Regression (tf-idf) to predict the outcome generated by Kaggle is 0.83333, which can be considered as a decent result. The score of using Naive Bayes(tf-idf) and Logistic Regression (W2v) model is 0.76072 and 0.48599 respectively. \n",
    "\n",
    "According to the results, using the algorithm: term frequency–inverse document frequency (tf-idf) is better in this case.\n",
    "\n",
    "As other teammates have higher scores using other methods, such as deep learning, we decided to focus on tuning the models with the better result.\n",
    "\n",
    "Besides, this code notebook is able to clearly show the steps of transforming the text data (in pre-processing) for the use of supervised learning."
   ]
  }
 ],
 "metadata": {
  "kernelspec": {
   "display_name": "Python 3",
   "language": "python",
   "name": "python3"
  },
  "language_info": {
   "codemirror_mode": {
    "name": "ipython",
    "version": 3
   },
   "file_extension": ".py",
   "mimetype": "text/x-python",
   "name": "python",
   "nbconvert_exporter": "python",
   "pygments_lexer": "ipython3",
   "version": "3.8.8"
  }
 },
 "nbformat": 4,
 "nbformat_minor": 2
}
